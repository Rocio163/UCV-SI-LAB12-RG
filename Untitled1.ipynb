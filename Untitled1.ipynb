{
  "nbformat": 4,
  "nbformat_minor": 0,
  "metadata": {
    "colab": {
      "provenance": [],
      "authorship_tag": "ABX9TyNgSnv8ni3NnIzcnMXPnIu7",
      "include_colab_link": true
    },
    "kernelspec": {
      "name": "python3",
      "display_name": "Python 3"
    },
    "language_info": {
      "name": "python"
    }
  },
  "cells": [
    {
      "cell_type": "markdown",
      "metadata": {
        "id": "view-in-github",
        "colab_type": "text"
      },
      "source": [
        "<a href=\"https://colab.research.google.com/github/Rocio163/UCV-SI-LAB12-RG/blob/main/Untitled1.ipynb\" target=\"_parent\"><img src=\"https://colab.research.google.com/assets/colab-badge.svg\" alt=\"Open In Colab\"/></a>"
      ]
    },
    {
      "cell_type": "code",
      "execution_count": 1,
      "metadata": {
        "id": "j6J66yMhTiEG",
        "colab": {
          "base_uri": "https://localhost:8080/"
        },
        "outputId": "00196f4c-b8ad-4bb6-8fad-c560bbce8259"
      },
      "outputs": [
        {
          "output_type": "stream",
          "name": "stdout",
          "text": [
            "Entrada: [0, 0], Prediccion: 0\n",
            "Entrada: [0, 1], Prediccion: 0\n",
            "Entrada: [1, 0], Prediccion: 0\n",
            "Entrada: [1, 1], Prediccion: 1\n"
          ]
        }
      ],
      "source": [
        "from sklearn.linear_model import Perceptron\n",
        "#DATOS DE ENTRADA Y SALIDA PARA LA OPERACION \"AND\"\n",
        "x = [[0,0], [0,1], [1,0],[1,1]]\n",
        "y = [0, 0, 0, 1]\n",
        "\n",
        "# CREACION DE UN OBJETO PERCETRON\n",
        "perceptron = Perceptron()\n",
        "\n",
        "# ENTRENEMIENTO DEL PERCEPTRON\n",
        "perceptron.fit(x, y)\n",
        "\n",
        "# REALIZACION DE LA PREDICCION\n",
        "predicciones = perceptron.predict(x)\n",
        "\n",
        "# IMPRIMIR PREDICCIONES\n",
        "for entrada, prediccion in zip(x, predicciones):\n",
        "    print(f\"Entrada: {entrada}, Prediccion: {prediccion}\")"
      ]
    },
    {
      "cell_type": "code",
      "source": [
        "import numpy as np\n",
        "import keras\n",
        "from keras.models import Sequential\n",
        "from keras.layers import Dense\n",
        "\n",
        "# Datos de entrada (matriz de caracteristicas) y etiquetas\n",
        "x_train =np.array([[0,0], [0,1], [1,0],[1,1]])\n",
        "y_train = np.array([0, 0, 0, 1])\n",
        "\n",
        "# Creacion del modelo\n",
        "model = Sequential()\n",
        "model.add(Dense(2 , input_dim=2, activation='relu'))\n",
        "model.add(Dense(1, activation='sigmoid'))\n",
        "\n",
        "# Compilacion del modelo\n",
        "model.compile(loss='binary_crossentropy', optimizer='adam', metrics=['accuracy'])\n",
        "\n",
        "# Evaluacion del modelo en los datos de entrenamiento\n",
        "scores = model.evaluate(x_train, y_train)\n",
        "print(\"\\n%s: %.2f%%\" % (model.metrics_names[1], scores[1]*100))\n",
        "\n",
        "# Hacer predicciones con el modelo entrenado\n",
        "x_test = np.array([[0,0], [0,1], [1,0],[1,1]])\n",
        "y_pred = model.predict(x_test)\n",
        "rounded = [round(x[0]) for x in y_pred]\n",
        "print(rounded)"
      ],
      "metadata": {
        "colab": {
          "base_uri": "https://localhost:8080/"
        },
        "id": "mosj0YzYW2-a",
        "outputId": "3fe570b1-6d6e-4103-bbb8-f1f872aeb947"
      },
      "execution_count": 2,
      "outputs": [
        {
          "output_type": "stream",
          "name": "stderr",
          "text": [
            "/usr/local/lib/python3.11/dist-packages/keras/src/layers/core/dense.py:87: UserWarning: Do not pass an `input_shape`/`input_dim` argument to a layer. When using Sequential models, prefer using an `Input(shape)` object as the first layer in the model instead.\n",
            "  super().__init__(activity_regularizer=activity_regularizer, **kwargs)\n"
          ]
        },
        {
          "output_type": "stream",
          "name": "stdout",
          "text": [
            "\u001b[1m1/1\u001b[0m \u001b[32m━━━━━━━━━━━━━━━━━━━━\u001b[0m\u001b[37m\u001b[0m \u001b[1m0s\u001b[0m 467ms/step - accuracy: 0.5000 - loss: 0.7212\n",
            "\n",
            "compile_metrics: 50.00%\n",
            "\u001b[1m1/1\u001b[0m \u001b[32m━━━━━━━━━━━━━━━━━━━━\u001b[0m\u001b[37m\u001b[0m \u001b[1m0s\u001b[0m 69ms/step\n",
            "[0, 1, 0, 0]\n"
          ]
        }
      ]
    }
  ]
}